{
 "cells": [
  {
   "cell_type": "code",
   "execution_count": 5,
   "metadata": {},
   "outputs": [
    {
     "name": "stdout",
     "output_type": "stream",
     "text": [
      "Cloning into 'dfply'...\n",
      "remote: Enumerating objects: 1853, done.\u001b[K\n",
      "remote: Total 1853 (delta 0), reused 0 (delta 0), pack-reused 1853\u001b[K\n",
      "Receiving objects: 100% (1853/1853), 2.14 MiB | 0 bytes/s, done.\n",
      "Resolving deltas: 100% (1161/1161), done.\n",
      "Checking connectivity... done.\n"
     ]
    }
   ],
   "source": [
    "! git clone https://github.com/kieferk/dfply.git"
   ]
  },
  {
   "cell_type": "code",
   "execution_count": 12,
   "metadata": {},
   "outputs": [],
   "source": [
    "# GO TO TERMINAL\n",
    "# cd into CURRENT FOLDER\n",
    "# RUN THE COMMAND BELOW\n",
    "\n",
    "# rm -rf .git"
   ]
  }
 ],
 "metadata": {
  "kernelspec": {
   "display_name": "Python 3",
   "language": "python",
   "name": "python3"
  },
  "language_info": {
   "codemirror_mode": {
    "name": "ipython",
    "version": 3
   },
   "file_extension": ".py",
   "mimetype": "text/x-python",
   "name": "python",
   "nbconvert_exporter": "python",
   "pygments_lexer": "ipython3",
   "version": "3.6.6"
  }
 },
 "nbformat": 4,
 "nbformat_minor": 2
}
