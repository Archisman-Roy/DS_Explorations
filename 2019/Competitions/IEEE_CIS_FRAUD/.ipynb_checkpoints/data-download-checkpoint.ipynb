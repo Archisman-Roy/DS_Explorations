{
 "cells": [
  {
   "cell_type": "code",
   "execution_count": 1,
   "metadata": {},
   "outputs": [],
   "source": [
    "#Imports\n",
    "import os"
   ]
  },
  {
   "cell_type": "code",
   "execution_count": 4,
   "metadata": {},
   "outputs": [],
   "source": [
    "os.environ['KAGGLE_USERNAME'] = \"royarchi\"\n",
    "os.environ['KAGGLE_KEY'] = \"\" #Get from kaggle_json on local or generate from kaggle.com"
   ]
  },
  {
   "cell_type": "code",
   "execution_count": 4,
   "metadata": {},
   "outputs": [],
   "source": [
    "# vim .bashrc #in user folder [The default folder in an instance]\n",
    "# Add \n",
    "# alias kaggle=\"~/.local/bin/kaggle\"\n",
    "# echo $PATH\n",
    "# pip show kaggle\n",
    "# whereis kaggle\n",
    "#pip uninstall kaggle\n",
    "#pip3 install kaggle"
   ]
  },
  {
   "cell_type": "code",
   "execution_count": 5,
   "metadata": {},
   "outputs": [
    {
     "name": "stdout",
     "output_type": "stream",
     "text": [
      "name                       size  creationDate         \r\n",
      "------------------------  -----  -------------------  \r\n",
      "test.csv.7z                 5MB  2017-10-19 15:38:50  \r\n",
      "stores.csv.7z              648B  2017-10-19 15:38:55  \r\n",
      "oil.csv.7z                  4KB  2017-10-19 15:39:00  \r\n",
      "items.csv.7z               14KB  2017-10-19 15:39:05  \r\n",
      "holidays_events.csv.7z      2KB  2017-10-19 15:39:10  \r\n",
      "transactions.csv.7z       214KB  2017-10-19 15:39:25  \r\n",
      "train.csv.7z              452MB  2017-10-19 15:39:26  \r\n",
      "sample_submission.csv.7z  651KB  2017-10-19 15:39:30  \r\n"
     ]
    }
   ],
   "source": [
    "! kaggle competitions files favorita-grocery-sales-forecasting"
   ]
  },
  {
   "cell_type": "code",
   "execution_count": 6,
   "metadata": {},
   "outputs": [
    {
     "name": "stdout",
     "output_type": "stream",
     "text": [
      "Downloading train_transaction.csv.zip to /home/ubuntu/DS_Explorations/2019/Competitions/IEEE_CIS_FRAUD\n",
      " 99%|█████████████████████████████████████▋| 52.0M/52.5M [00:01<00:00, 19.1MB/s]\n",
      "100%|██████████████████████████████████████| 52.5M/52.5M [00:01<00:00, 29.5MB/s]\n",
      "Downloading train_identity.csv.zip to /home/ubuntu/DS_Explorations/2019/Competitions/IEEE_CIS_FRAUD\n",
      "  0%|                                               | 0.00/3.02M [00:00<?, ?B/s]\n",
      "100%|██████████████████████████████████████| 3.02M/3.02M [00:00<00:00, 69.0MB/s]\n",
      "Downloading test_transaction.csv.zip to /home/ubuntu/DS_Explorations/2019/Competitions/IEEE_CIS_FRAUD\n",
      " 87%|████████████████████████████████▉     | 41.0M/47.3M [00:00<00:00, 43.5MB/s]\n",
      "100%|██████████████████████████████████████| 47.3M/47.3M [00:01<00:00, 49.5MB/s]\n",
      "Downloading test_identity.csv.zip to /home/ubuntu/DS_Explorations/2019/Competitions/IEEE_CIS_FRAUD\n",
      "  0%|                                               | 0.00/2.97M [00:00<?, ?B/s]\n",
      "100%|██████████████████████████████████████| 2.97M/2.97M [00:00<00:00, 88.2MB/s]\n",
      "Downloading sample_submission.csv.zip to /home/ubuntu/DS_Explorations/2019/Competitions/IEEE_CIS_FRAUD\n",
      "  0%|                                               | 0.00/1.14M [00:00<?, ?B/s]\n",
      "100%|██████████████████████████████████████| 1.14M/1.14M [00:00<00:00, 46.2MB/s]\n"
     ]
    }
   ],
   "source": [
    "! kaggle competitions download -c ieee-fraud-detection"
   ]
  }
 ],
 "metadata": {
  "kernelspec": {
   "display_name": "Python 3",
   "language": "python",
   "name": "python3"
  },
  "language_info": {
   "codemirror_mode": {
    "name": "ipython",
    "version": 3
   },
   "file_extension": ".py",
   "mimetype": "text/x-python",
   "name": "python",
   "nbconvert_exporter": "python",
   "pygments_lexer": "ipython3",
   "version": "3.6.6"
  }
 },
 "nbformat": 4,
 "nbformat_minor": 2
}
