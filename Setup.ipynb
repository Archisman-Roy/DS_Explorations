{
 "cells": [
  {
   "cell_type": "code",
   "execution_count": 1,
   "metadata": {},
   "outputs": [
    {
     "name": "stdout",
     "output_type": "stream",
     "text": [
      "Collecting xgboost\n",
      "\u001b[?25l  Downloading https://files.pythonhosted.org/packages/6a/49/7e10686647f741bd9c8918b0decdb94135b542fe372ca1100739b8529503/xgboost-0.82-py2.py3-none-manylinux1_x86_64.whl (114.0MB)\n",
      "\u001b[K    100% |████████████████████████████████| 114.0MB 619kB/s eta 0:00:01\n",
      "\u001b[?25hRequirement already satisfied: numpy in /home/ubuntu/anaconda3/envs/pytorch_p36/lib/python3.6/site-packages (from xgboost) (1.15.4)\n",
      "Requirement already satisfied: scipy in /home/ubuntu/anaconda3/envs/pytorch_p36/lib/python3.6/site-packages (from xgboost) (1.1.0)\n",
      "\u001b[31mfastai 1.0.50.post1 requires nvidia-ml-py3, which is not installed.\u001b[0m\n",
      "\u001b[31mthinc 6.12.1 has requirement msgpack<0.6.0,>=0.5.6, but you'll have msgpack 0.6.0 which is incompatible.\u001b[0m\n",
      "Installing collected packages: xgboost\n",
      "Successfully installed xgboost-0.82\n",
      "\u001b[33mYou are using pip version 10.0.1, however version 19.1.1 is available.\n",
      "You should consider upgrading via the 'pip install --upgrade pip' command.\u001b[0m\n",
      "Collecting plotly_express\n",
      "\u001b[?25l  Downloading https://files.pythonhosted.org/packages/d5/d8/98acf600935f2db4ffd8e2f754ae4d54bc7fa746f205cca33a499fad3516/plotly_express-0.2.0-py2.py3-none-any.whl (74kB)\n",
      "\u001b[K    100% |████████████████████████████████| 81kB 1.7MB/s ta 0:00:01\n",
      "\u001b[?25hRequirement already satisfied: scipy>=0.18 in /home/ubuntu/anaconda3/envs/pytorch_p36/lib/python3.6/site-packages (from plotly_express) (1.1.0)\n",
      "Requirement already satisfied: statsmodels>=0.9.0 in /home/ubuntu/anaconda3/envs/pytorch_p36/lib/python3.6/site-packages (from plotly_express) (0.9.0)\n",
      "Requirement already satisfied: pandas>=0.20.0 in /home/ubuntu/anaconda3/envs/pytorch_p36/lib/python3.6/site-packages (from plotly_express) (0.22.0)\n",
      "Requirement already satisfied: patsy>=0.5 in /home/ubuntu/anaconda3/envs/pytorch_p36/lib/python3.6/site-packages (from plotly_express) (0.5.0)\n",
      "Collecting plotly>=3.9.0 (from plotly_express)\n",
      "\u001b[?25l  Downloading https://files.pythonhosted.org/packages/3c/7e/bafb51ecd654a16f593beceb8e4e4069e33fccf47a3d071e0ef9b821a694/plotly-3.9.0-py2.py3-none-any.whl (41.2MB)\n",
      "\u001b[K    100% |████████████████████████████████| 41.2MB 1.6MB/s eta 0:00:01    53% |█████████████████               | 22.0MB 47.5MB/s eta 0:00:01\n",
      "\u001b[?25hRequirement already satisfied: numpy>=1.11 in /home/ubuntu/anaconda3/envs/pytorch_p36/lib/python3.6/site-packages (from plotly_express) (1.15.4)\n",
      "Requirement already satisfied: python-dateutil>=2 in /home/ubuntu/anaconda3/envs/pytorch_p36/lib/python3.6/site-packages (from pandas>=0.20.0->plotly_express) (2.7.3)\n",
      "Requirement already satisfied: pytz>=2011k in /home/ubuntu/anaconda3/envs/pytorch_p36/lib/python3.6/site-packages (from pandas>=0.20.0->plotly_express) (2018.4)\n",
      "Requirement already satisfied: six in /home/ubuntu/anaconda3/envs/pytorch_p36/lib/python3.6/site-packages (from patsy>=0.5->plotly_express) (1.11.0)\n",
      "Requirement already satisfied: requests in /home/ubuntu/anaconda3/envs/pytorch_p36/lib/python3.6/site-packages (from plotly>=3.9.0->plotly_express) (2.20.1)\n",
      "Requirement already satisfied: decorator>=4.0.6 in /home/ubuntu/anaconda3/envs/pytorch_p36/lib/python3.6/site-packages (from plotly>=3.9.0->plotly_express) (4.3.0)\n",
      "Collecting retrying>=1.3.3 (from plotly>=3.9.0->plotly_express)\n",
      "  Downloading https://files.pythonhosted.org/packages/44/ef/beae4b4ef80902f22e3af073397f079c96969c69b2c7d52a57ea9ae61c9d/retrying-1.3.3.tar.gz\n",
      "Requirement already satisfied: nbformat>=4.2 in /home/ubuntu/anaconda3/envs/pytorch_p36/lib/python3.6/site-packages (from plotly>=3.9.0->plotly_express) (4.4.0)\n",
      "Requirement already satisfied: chardet<3.1.0,>=3.0.2 in /home/ubuntu/anaconda3/envs/pytorch_p36/lib/python3.6/site-packages (from requests->plotly>=3.9.0->plotly_express) (3.0.4)\n",
      "Requirement already satisfied: certifi>=2017.4.17 in /home/ubuntu/anaconda3/envs/pytorch_p36/lib/python3.6/site-packages (from requests->plotly>=3.9.0->plotly_express) (2019.3.9)\n",
      "Requirement already satisfied: idna<2.8,>=2.5 in /home/ubuntu/anaconda3/envs/pytorch_p36/lib/python3.6/site-packages (from requests->plotly>=3.9.0->plotly_express) (2.6)\n",
      "Requirement already satisfied: urllib3<1.25,>=1.21.1 in /home/ubuntu/anaconda3/envs/pytorch_p36/lib/python3.6/site-packages (from requests->plotly>=3.9.0->plotly_express) (1.23)\n",
      "Requirement already satisfied: ipython_genutils in /home/ubuntu/anaconda3/envs/pytorch_p36/lib/python3.6/site-packages (from nbformat>=4.2->plotly>=3.9.0->plotly_express) (0.2.0)\n",
      "Requirement already satisfied: traitlets>=4.1 in /home/ubuntu/anaconda3/envs/pytorch_p36/lib/python3.6/site-packages (from nbformat>=4.2->plotly>=3.9.0->plotly_express) (4.3.2)\n",
      "Requirement already satisfied: jsonschema!=2.5.0,>=2.4 in /home/ubuntu/anaconda3/envs/pytorch_p36/lib/python3.6/site-packages (from nbformat>=4.2->plotly>=3.9.0->plotly_express) (2.6.0)\n",
      "Requirement already satisfied: jupyter_core in /home/ubuntu/anaconda3/envs/pytorch_p36/lib/python3.6/site-packages (from nbformat>=4.2->plotly>=3.9.0->plotly_express) (4.4.0)\n",
      "Building wheels for collected packages: retrying\n",
      "  Running setup.py bdist_wheel for retrying ... \u001b[?25ldone\n",
      "\u001b[?25h  Stored in directory: /home/ubuntu/.cache/pip/wheels/d7/a9/33/acc7b709e2a35caa7d4cae442f6fe6fbf2c43f80823d46460c\n",
      "Successfully built retrying\n",
      "\u001b[31mfastai 1.0.50.post1 requires nvidia-ml-py3, which is not installed.\u001b[0m\n",
      "\u001b[31mthinc 6.12.1 has requirement msgpack<0.6.0,>=0.5.6, but you'll have msgpack 0.6.0 which is incompatible.\u001b[0m\n",
      "\u001b[31mautovizwidget 0.12.7 has requirement plotly<3.0,>=1.10.0, but you'll have plotly 3.9.0 which is incompatible.\u001b[0m\n",
      "Installing collected packages: retrying, plotly, plotly-express\n",
      "  Found existing installation: plotly 2.7.0\n",
      "    Uninstalling plotly-2.7.0:\n",
      "      Successfully uninstalled plotly-2.7.0\n",
      "Successfully installed plotly-3.9.0 plotly-express-0.2.0 retrying-1.3.3\n",
      "\u001b[33mYou are using pip version 10.0.1, however version 19.1.1 is available.\n",
      "You should consider upgrading via the 'pip install --upgrade pip' command.\u001b[0m\n",
      "Collecting dfply\n",
      "\u001b[?25l  Downloading https://files.pythonhosted.org/packages/53/91/18ab48c64661252dadff685f8ddbc6f456302923918f488714ee2345d49b/dfply-0.3.3-py3-none-any.whl (612kB)\n",
      "\u001b[K    100% |████████████████████████████████| 614kB 30.6MB/s ta 0:00:01\n",
      "\u001b[?25hRequirement already satisfied: pandas in /home/ubuntu/anaconda3/envs/pytorch_p36/lib/python3.6/site-packages (from dfply) (0.22.0)\n",
      "Requirement already satisfied: numpy in /home/ubuntu/anaconda3/envs/pytorch_p36/lib/python3.6/site-packages (from dfply) (1.15.4)\n",
      "Requirement already satisfied: python-dateutil>=2 in /home/ubuntu/anaconda3/envs/pytorch_p36/lib/python3.6/site-packages (from pandas->dfply) (2.7.3)\n",
      "Requirement already satisfied: pytz>=2011k in /home/ubuntu/anaconda3/envs/pytorch_p36/lib/python3.6/site-packages (from pandas->dfply) (2018.4)\n",
      "Requirement already satisfied: six>=1.5 in /home/ubuntu/anaconda3/envs/pytorch_p36/lib/python3.6/site-packages (from python-dateutil>=2->pandas->dfply) (1.11.0)\n",
      "\u001b[31mfastai 1.0.50.post1 requires nvidia-ml-py3, which is not installed.\u001b[0m\n",
      "\u001b[31mthinc 6.12.1 has requirement msgpack<0.6.0,>=0.5.6, but you'll have msgpack 0.6.0 which is incompatible.\u001b[0m\n",
      "\u001b[31mautovizwidget 0.12.7 has requirement plotly<3.0,>=1.10.0, but you'll have plotly 3.9.0 which is incompatible.\u001b[0m\n",
      "Installing collected packages: dfply\n",
      "Successfully installed dfply-0.3.3\n",
      "\u001b[33mYou are using pip version 10.0.1, however version 19.1.1 is available.\n",
      "You should consider upgrading via the 'pip install --upgrade pip' command.\u001b[0m\n",
      "Collecting pandas_ml\n",
      "\u001b[?25l  Downloading https://files.pythonhosted.org/packages/ae/72/6d90debfcb9ea74ec00927fa7ed0204dcc560b1f9ffcd8b239daa7fd106d/pandas_ml-0.6.1-py3-none-any.whl (100kB)\n",
      "\u001b[K    100% |████████████████████████████████| 102kB 2.7MB/s a 0:00:011\n",
      "\u001b[?25hCollecting enum34 (from pandas_ml)\n",
      "  Downloading https://files.pythonhosted.org/packages/af/42/cb9355df32c69b553e72a2e28daee25d1611d2c0d9c272aa1d34204205b2/enum34-1.1.6-py3-none-any.whl\n",
      "Requirement already satisfied: pandas>=0.19.0 in /home/ubuntu/anaconda3/envs/pytorch_p36/lib/python3.6/site-packages (from pandas_ml) (0.22.0)\n",
      "Requirement already satisfied: python-dateutil>=2 in /home/ubuntu/anaconda3/envs/pytorch_p36/lib/python3.6/site-packages (from pandas>=0.19.0->pandas_ml) (2.7.3)\n",
      "Requirement already satisfied: numpy>=1.9.0 in /home/ubuntu/anaconda3/envs/pytorch_p36/lib/python3.6/site-packages (from pandas>=0.19.0->pandas_ml) (1.15.4)\n",
      "Requirement already satisfied: pytz>=2011k in /home/ubuntu/anaconda3/envs/pytorch_p36/lib/python3.6/site-packages (from pandas>=0.19.0->pandas_ml) (2018.4)\n",
      "Requirement already satisfied: six>=1.5 in /home/ubuntu/anaconda3/envs/pytorch_p36/lib/python3.6/site-packages (from python-dateutil>=2->pandas>=0.19.0->pandas_ml) (1.11.0)\n"
     ]
    },
    {
     "name": "stdout",
     "output_type": "stream",
     "text": [
      "\u001b[31mfastai 1.0.50.post1 requires nvidia-ml-py3, which is not installed.\u001b[0m\n",
      "\u001b[31mthinc 6.12.1 has requirement msgpack<0.6.0,>=0.5.6, but you'll have msgpack 0.6.0 which is incompatible.\u001b[0m\n",
      "\u001b[31mautovizwidget 0.12.7 has requirement plotly<3.0,>=1.10.0, but you'll have plotly 3.9.0 which is incompatible.\u001b[0m\n",
      "Installing collected packages: enum34, pandas-ml\n",
      "Successfully installed enum34-1.1.6 pandas-ml-0.6.1\n",
      "\u001b[33mYou are using pip version 10.0.1, however version 19.1.1 is available.\n",
      "You should consider upgrading via the 'pip install --upgrade pip' command.\u001b[0m\n",
      "Collecting pdpbox\n",
      "\u001b[?25l  Downloading https://files.pythonhosted.org/packages/87/23/ac7da5ba1c6c03a87c412e7e7b6e91a10d6ecf4474906c3e736f93940d49/PDPbox-0.2.0.tar.gz (57.7MB)\n",
      "\u001b[K    100% |████████████████████████████████| 57.7MB 1.2MB/s eta 0:00:01  0% |▏                               | 256kB 16.0MB/s eta 0:00:04\n",
      "\u001b[?25hRequirement already satisfied: pandas in /home/ubuntu/anaconda3/envs/pytorch_p36/lib/python3.6/site-packages (from pdpbox) (0.22.0)\n",
      "Requirement already satisfied: numpy in /home/ubuntu/anaconda3/envs/pytorch_p36/lib/python3.6/site-packages (from pdpbox) (1.15.4)\n",
      "Requirement already satisfied: scipy in /home/ubuntu/anaconda3/envs/pytorch_p36/lib/python3.6/site-packages (from pdpbox) (1.1.0)\n",
      "Requirement already satisfied: matplotlib>=2.1.2 in /home/ubuntu/anaconda3/envs/pytorch_p36/lib/python3.6/site-packages (from pdpbox) (2.2.2)\n",
      "Collecting joblib (from pdpbox)\n",
      "\u001b[?25l  Downloading https://files.pythonhosted.org/packages/cd/c1/50a758e8247561e58cb87305b1e90b171b8c767b15b12a1734001f41d356/joblib-0.13.2-py2.py3-none-any.whl (278kB)\n",
      "\u001b[K    100% |████████████████████████████████| 286kB 37.9MB/s ta 0:00:01\n",
      "\u001b[?25hRequirement already satisfied: psutil in /home/ubuntu/anaconda3/envs/pytorch_p36/lib/python3.6/site-packages (from pdpbox) (5.4.5)\n",
      "Requirement already satisfied: scikit-learn in /home/ubuntu/anaconda3/envs/pytorch_p36/lib/python3.6/site-packages (from pdpbox) (0.19.1)\n",
      "Requirement already satisfied: pytz>=2011k in /home/ubuntu/anaconda3/envs/pytorch_p36/lib/python3.6/site-packages (from pandas->pdpbox) (2018.4)\n",
      "Requirement already satisfied: python-dateutil>=2 in /home/ubuntu/anaconda3/envs/pytorch_p36/lib/python3.6/site-packages (from pandas->pdpbox) (2.7.3)\n",
      "Requirement already satisfied: cycler>=0.10 in /home/ubuntu/anaconda3/envs/pytorch_p36/lib/python3.6/site-packages (from matplotlib>=2.1.2->pdpbox) (0.10.0)\n",
      "Requirement already satisfied: kiwisolver>=1.0.1 in /home/ubuntu/anaconda3/envs/pytorch_p36/lib/python3.6/site-packages (from matplotlib>=2.1.2->pdpbox) (1.0.1)\n",
      "Requirement already satisfied: pyparsing!=2.0.4,!=2.1.2,!=2.1.6,>=2.0.1 in /home/ubuntu/anaconda3/envs/pytorch_p36/lib/python3.6/site-packages (from matplotlib>=2.1.2->pdpbox) (2.2.0)\n",
      "Requirement already satisfied: six>=1.10 in /home/ubuntu/anaconda3/envs/pytorch_p36/lib/python3.6/site-packages (from matplotlib>=2.1.2->pdpbox) (1.11.0)\n",
      "Requirement already satisfied: setuptools in /home/ubuntu/anaconda3/envs/pytorch_p36/lib/python3.6/site-packages (from kiwisolver>=1.0.1->matplotlib>=2.1.2->pdpbox) (39.1.0)\n",
      "Building wheels for collected packages: pdpbox\n",
      "  Running setup.py bdist_wheel for pdpbox ... \u001b[?25ldone\n",
      "\u001b[?25h  Stored in directory: /home/ubuntu/.cache/pip/wheels/7d/08/51/63fd122b04a2c87d780464eeffb94867c75bd96a64d500a3fe\n",
      "Successfully built pdpbox\n",
      "\u001b[31mfastai 1.0.50.post1 requires nvidia-ml-py3, which is not installed.\u001b[0m\n",
      "\u001b[31mthinc 6.12.1 has requirement msgpack<0.6.0,>=0.5.6, but you'll have msgpack 0.6.0 which is incompatible.\u001b[0m\n",
      "\u001b[31mautovizwidget 0.12.7 has requirement plotly<3.0,>=1.10.0, but you'll have plotly 3.9.0 which is incompatible.\u001b[0m\n",
      "Installing collected packages: joblib, pdpbox\n",
      "Successfully installed joblib-0.13.2 pdpbox-0.2.0\n",
      "\u001b[33mYou are using pip version 10.0.1, however version 19.1.1 is available.\n",
      "You should consider upgrading via the 'pip install --upgrade pip' command.\u001b[0m\n"
     ]
    }
   ],
   "source": [
    "! pip install xgboost\n",
    "! pip install plotly_express\n",
    "! pip install dfply\n",
    "! pip install pandas_ml #For confusion matrix\n",
    "! pip install pdpbox"
   ]
  },
  {
   "cell_type": "code",
   "execution_count": 7,
   "metadata": {},
   "outputs": [],
   "source": [
    "import xgboost as xgb\n",
    "import plotly_express as px\n",
    "from dfply import *"
   ]
  },
  {
   "cell_type": "code",
   "execution_count": 8,
   "metadata": {},
   "outputs": [
    {
     "name": "stdout",
     "output_type": "stream",
     "text": [
      "Cloning into 'DS_Explorations'...\n",
      "remote: Enumerating objects: 455, done.\u001b[K\n",
      "remote: Counting objects: 100% (455/455), done.\u001b[K\n",
      "remote: Compressing objects: 100% (446/446), done.\u001b[K\n",
      "remote: Total 510 (delta 12), reused 447 (delta 6), pack-reused 55\u001b[K\n",
      "Receiving objects: 100% (510/510), 50.29 MiB | 45.34 MiB/s, done.\n",
      "Resolving deltas: 100% (31/31), done.\n",
      "Checking connectivity... done.\n"
     ]
    }
   ],
   "source": [
    "#! git clone https://github.com/Archisman-Roy/DS_Explorations.git"
   ]
  }
 ],
 "metadata": {
  "kernelspec": {
   "display_name": "Environment (conda_pytorch_p36)",
   "language": "python",
   "name": "conda_pytorch_p36"
  },
  "language_info": {
   "codemirror_mode": {
    "name": "ipython",
    "version": 3
   },
   "file_extension": ".py",
   "mimetype": "text/x-python",
   "name": "python",
   "nbconvert_exporter": "python",
   "pygments_lexer": "ipython3",
   "version": "3.6.5"
  }
 },
 "nbformat": 4,
 "nbformat_minor": 2
}
