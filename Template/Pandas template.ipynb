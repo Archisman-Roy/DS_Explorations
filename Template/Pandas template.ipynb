{
 "cells": [
  {
   "cell_type": "code",
   "execution_count": 1,
   "metadata": {},
   "outputs": [],
   "source": [
    "import matplotlib.pyplot as plt\n",
    "from __future__ import division\n",
    "import datetime\n",
    "import seaborn as sns\n",
    "\n",
    "import pandas as pd\n",
    "import numpy as np"
   ]
  },
  {
   "cell_type": "markdown",
   "metadata": {
    "heading_collapsed": true
   },
   "source": [
    "#### Assign\n",
    "\n",
    "data = data.assign(date = pd.to_datetime(data['date']), ft_date = pd.to_datetime(data['date']) )"
   ]
  },
  {
   "cell_type": "markdown",
   "metadata": {},
   "source": [
    "#### Group by\n",
    "\n",
    "Z = (data['X'] == 'A')\n",
    "\n",
    "def test_sum(x):\n",
    "    return x[Z].count()\n",
    "\n",
    "agg_data = data.groupby(['B']).agg({'days':['min', 'max'], 'id': [test_sum]})\n",
    "\n",
    "agg_data = agg_data.rename(columns = {'max' : 'bar', 'min': 'tat'})\n",
    "\n",
    "agg_data.columns = agg_data.columns.get_level_values(1)\n",
    "\n",
    "agg_data = agg_data.reset_index(level=['B'])\n",
    "\n",
    "agg_data\n"
   ]
  },
  {
   "cell_type": "markdown",
   "metadata": {},
   "source": [
    "#### sort and remove duplicates\n",
    "\n",
    "data.sort_values(by=['A','B'])\n",
    "\n",
    "non_dup_data = data[['A', 'B','C']].drop_duplicates(keep='first')"
   ]
  },
  {
   "cell_type": "code",
   "execution_count": null,
   "metadata": {},
   "outputs": [],
   "source": []
  }
 ],
 "metadata": {
  "kernelspec": {
   "display_name": "Python 3",
   "language": "python",
   "name": "python3"
  },
  "language_info": {
   "codemirror_mode": {
    "name": "ipython",
    "version": 3
   },
   "file_extension": ".py",
   "mimetype": "text/x-python",
   "name": "python",
   "nbconvert_exporter": "python",
   "pygments_lexer": "ipython3",
   "version": "3.6.5"
  }
 },
 "nbformat": 4,
 "nbformat_minor": 2
}
