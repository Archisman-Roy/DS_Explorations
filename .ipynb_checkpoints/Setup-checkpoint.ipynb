{
 "cells": [
  {
   "cell_type": "code",
   "execution_count": 6,
   "metadata": {},
   "outputs": [
    {
     "name": "stdout",
     "output_type": "stream",
     "text": [
      "Requirement already satisfied: xgboost in ./anaconda3/envs/pytorch_p36/lib/python3.6/site-packages (0.82)\n",
      "Requirement already satisfied: scipy in ./anaconda3/envs/pytorch_p36/lib/python3.6/site-packages (from xgboost) (1.1.0)\n",
      "Requirement already satisfied: numpy in ./anaconda3/envs/pytorch_p36/lib/python3.6/site-packages (from xgboost) (1.15.4)\n",
      "\u001b[31mfastai 1.0.50.post1 requires nvidia-ml-py3, which is not installed.\u001b[0m\n",
      "\u001b[31mthinc 6.12.1 has requirement msgpack<0.6.0,>=0.5.6, but you'll have msgpack 0.6.0 which is incompatible.\u001b[0m\n",
      "\u001b[31mautovizwidget 0.12.7 has requirement plotly<3.0,>=1.10.0, but you'll have plotly 3.7.1 which is incompatible.\u001b[0m\n",
      "\u001b[33mYou are using pip version 10.0.1, however version 19.0.3 is available.\n",
      "You should consider upgrading via the 'pip install --upgrade pip' command.\u001b[0m\n",
      "Requirement already satisfied: plotly_express in ./anaconda3/envs/pytorch_p36/lib/python3.6/site-packages (0.1.3)\n",
      "Requirement already satisfied: plotly>=3.7.1 in ./anaconda3/envs/pytorch_p36/lib/python3.6/site-packages (from plotly_express) (3.7.1)\n",
      "Requirement already satisfied: pandas>=0.20.0 in ./anaconda3/envs/pytorch_p36/lib/python3.6/site-packages (from plotly_express) (0.22.0)\n",
      "Requirement already satisfied: patsy>=0.5 in ./anaconda3/envs/pytorch_p36/lib/python3.6/site-packages (from plotly_express) (0.5.0)\n",
      "Requirement already satisfied: statsmodels>=0.9.0 in ./anaconda3/envs/pytorch_p36/lib/python3.6/site-packages (from plotly_express) (0.9.0)\n",
      "Requirement already satisfied: scipy>=0.18 in ./anaconda3/envs/pytorch_p36/lib/python3.6/site-packages (from plotly_express) (1.1.0)\n",
      "Requirement already satisfied: numpy>=1.11 in ./anaconda3/envs/pytorch_p36/lib/python3.6/site-packages (from plotly_express) (1.15.4)\n",
      "Requirement already satisfied: requests in ./anaconda3/envs/pytorch_p36/lib/python3.6/site-packages (from plotly>=3.7.1->plotly_express) (2.20.1)\n",
      "Requirement already satisfied: pytz in ./anaconda3/envs/pytorch_p36/lib/python3.6/site-packages (from plotly>=3.7.1->plotly_express) (2018.4)\n",
      "Requirement already satisfied: nbformat>=4.2 in ./anaconda3/envs/pytorch_p36/lib/python3.6/site-packages (from plotly>=3.7.1->plotly_express) (4.4.0)\n",
      "Requirement already satisfied: six in ./anaconda3/envs/pytorch_p36/lib/python3.6/site-packages (from plotly>=3.7.1->plotly_express) (1.11.0)\n",
      "Requirement already satisfied: retrying>=1.3.3 in ./anaconda3/envs/pytorch_p36/lib/python3.6/site-packages (from plotly>=3.7.1->plotly_express) (1.3.3)\n",
      "Requirement already satisfied: decorator>=4.0.6 in ./anaconda3/envs/pytorch_p36/lib/python3.6/site-packages (from plotly>=3.7.1->plotly_express) (4.3.0)\n",
      "Requirement already satisfied: python-dateutil>=2 in ./anaconda3/envs/pytorch_p36/lib/python3.6/site-packages (from pandas>=0.20.0->plotly_express) (2.7.3)\n",
      "Requirement already satisfied: chardet<3.1.0,>=3.0.2 in ./anaconda3/envs/pytorch_p36/lib/python3.6/site-packages (from requests->plotly>=3.7.1->plotly_express) (3.0.4)\n",
      "Requirement already satisfied: idna<2.8,>=2.5 in ./anaconda3/envs/pytorch_p36/lib/python3.6/site-packages (from requests->plotly>=3.7.1->plotly_express) (2.6)\n",
      "Requirement already satisfied: certifi>=2017.4.17 in ./anaconda3/envs/pytorch_p36/lib/python3.6/site-packages (from requests->plotly>=3.7.1->plotly_express) (2019.3.9)\n",
      "Requirement already satisfied: urllib3<1.25,>=1.21.1 in ./anaconda3/envs/pytorch_p36/lib/python3.6/site-packages (from requests->plotly>=3.7.1->plotly_express) (1.23)\n",
      "Requirement already satisfied: ipython_genutils in ./anaconda3/envs/pytorch_p36/lib/python3.6/site-packages (from nbformat>=4.2->plotly>=3.7.1->plotly_express) (0.2.0)\n",
      "Requirement already satisfied: traitlets>=4.1 in ./anaconda3/envs/pytorch_p36/lib/python3.6/site-packages (from nbformat>=4.2->plotly>=3.7.1->plotly_express) (4.3.2)\n",
      "Requirement already satisfied: jsonschema!=2.5.0,>=2.4 in ./anaconda3/envs/pytorch_p36/lib/python3.6/site-packages (from nbformat>=4.2->plotly>=3.7.1->plotly_express) (2.6.0)\n",
      "Requirement already satisfied: jupyter_core in ./anaconda3/envs/pytorch_p36/lib/python3.6/site-packages (from nbformat>=4.2->plotly>=3.7.1->plotly_express) (4.4.0)\n",
      "\u001b[31mfastai 1.0.50.post1 requires nvidia-ml-py3, which is not installed.\u001b[0m\n",
      "\u001b[31mthinc 6.12.1 has requirement msgpack<0.6.0,>=0.5.6, but you'll have msgpack 0.6.0 which is incompatible.\u001b[0m\n",
      "\u001b[31mautovizwidget 0.12.7 has requirement plotly<3.0,>=1.10.0, but you'll have plotly 3.7.1 which is incompatible.\u001b[0m\n",
      "\u001b[33mYou are using pip version 10.0.1, however version 19.0.3 is available.\n",
      "You should consider upgrading via the 'pip install --upgrade pip' command.\u001b[0m\n",
      "Requirement already satisfied: dfply in ./anaconda3/envs/pytorch_p36/lib/python3.6/site-packages (0.3.3)\n",
      "Requirement already satisfied: pandas in ./anaconda3/envs/pytorch_p36/lib/python3.6/site-packages (from dfply) (0.22.0)\n",
      "Requirement already satisfied: numpy in ./anaconda3/envs/pytorch_p36/lib/python3.6/site-packages (from dfply) (1.15.4)\n",
      "Requirement already satisfied: pytz>=2011k in ./anaconda3/envs/pytorch_p36/lib/python3.6/site-packages (from pandas->dfply) (2018.4)\n",
      "Requirement already satisfied: python-dateutil>=2 in ./anaconda3/envs/pytorch_p36/lib/python3.6/site-packages (from pandas->dfply) (2.7.3)\n",
      "Requirement already satisfied: six>=1.5 in ./anaconda3/envs/pytorch_p36/lib/python3.6/site-packages (from python-dateutil>=2->pandas->dfply) (1.11.0)\n",
      "\u001b[31mfastai 1.0.50.post1 requires nvidia-ml-py3, which is not installed.\u001b[0m\n",
      "\u001b[31mthinc 6.12.1 has requirement msgpack<0.6.0,>=0.5.6, but you'll have msgpack 0.6.0 which is incompatible.\u001b[0m\n",
      "\u001b[31mautovizwidget 0.12.7 has requirement plotly<3.0,>=1.10.0, but you'll have plotly 3.7.1 which is incompatible.\u001b[0m\n",
      "\u001b[33mYou are using pip version 10.0.1, however version 19.0.3 is available.\n",
      "You should consider upgrading via the 'pip install --upgrade pip' command.\u001b[0m\n"
     ]
    }
   ],
   "source": [
    "! pip install xgboost\n",
    "! pip install plotly_express\n",
    "! pip install dfply"
   ]
  },
  {
   "cell_type": "code",
   "execution_count": 7,
   "metadata": {},
   "outputs": [],
   "source": [
    "import xgboost as xgb\n",
    "import plotly_express as px\n",
    "from dfply import *"
   ]
  },
  {
   "cell_type": "code",
   "execution_count": 8,
   "metadata": {},
   "outputs": [
    {
     "name": "stdout",
     "output_type": "stream",
     "text": [
      "Cloning into 'DS_Explorations'...\n",
      "remote: Enumerating objects: 455, done.\u001b[K\n",
      "remote: Counting objects: 100% (455/455), done.\u001b[K\n",
      "remote: Compressing objects: 100% (446/446), done.\u001b[K\n",
      "remote: Total 510 (delta 12), reused 447 (delta 6), pack-reused 55\u001b[K\n",
      "Receiving objects: 100% (510/510), 50.29 MiB | 45.34 MiB/s, done.\n",
      "Resolving deltas: 100% (31/31), done.\n",
      "Checking connectivity... done.\n"
     ]
    }
   ],
   "source": [
    "#! git clone https://github.com/Archisman-Roy/DS_Explorations.git"
   ]
  }
 ],
 "metadata": {
  "kernelspec": {
   "display_name": "Environment (conda_pytorch_p36)",
   "language": "python",
   "name": "conda_pytorch_p36"
  },
  "language_info": {
   "codemirror_mode": {
    "name": "ipython",
    "version": 3
   },
   "file_extension": ".py",
   "mimetype": "text/x-python",
   "name": "python",
   "nbconvert_exporter": "python",
   "pygments_lexer": "ipython3",
   "version": "3.6.5"
  }
 },
 "nbformat": 4,
 "nbformat_minor": 2
}
