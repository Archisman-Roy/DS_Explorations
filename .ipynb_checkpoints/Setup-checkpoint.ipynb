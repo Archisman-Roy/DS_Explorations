{
 "cells": [
  {
   "cell_type": "code",
   "execution_count": 2,
   "metadata": {},
   "outputs": [
    {
     "name": "stdout",
     "output_type": "stream",
     "text": [
      "Requirement already satisfied: kaggle in /home/ubuntu/.local/lib/python3.5/site-packages (1.5.5)\n",
      "Requirement already satisfied: requests in /usr/local/lib/python3.5/dist-packages (from kaggle) (2.20.0)\n",
      "Requirement already satisfied: tqdm in /home/ubuntu/.local/lib/python3.5/site-packages (from kaggle) (4.32.2)\n",
      "Requirement already satisfied: python-slugify in /home/ubuntu/.local/lib/python3.5/site-packages (from kaggle) (3.0.3)\n",
      "Requirement already satisfied: urllib3<1.25,>=1.21.1 in /usr/local/lib/python3.5/dist-packages (from kaggle) (1.24.3)\n",
      "Requirement already satisfied: python-dateutil in /usr/local/lib/python3.5/dist-packages (from kaggle) (2.8.0)\n",
      "Requirement already satisfied: certifi in /usr/local/lib/python3.5/dist-packages (from kaggle) (2019.6.16)\n",
      "Requirement already satisfied: six>=1.10 in /usr/lib/python3/dist-packages (from kaggle) (1.10.0)\n",
      "Requirement already satisfied: idna<2.8,>=2.5 in /usr/local/lib/python3.5/dist-packages (from requests->kaggle) (2.7)\n",
      "Requirement already satisfied: chardet<3.1.0,>=3.0.2 in /usr/local/lib/python3.5/dist-packages (from requests->kaggle) (3.0.4)\n",
      "Requirement already satisfied: text-unidecode==1.2 in /home/ubuntu/.local/lib/python3.5/site-packages (from python-slugify->kaggle) (1.2)\n",
      "\u001b[33mWARNING: You are using pip version 19.1.1, however version 19.2.1 is available.\n",
      "You should consider upgrading via the 'pip install --upgrade pip' command.\u001b[0m\n"
     ]
    }
   ],
   "source": [
    "! pip3 install --user kaggle\n",
    "#! pip install xgboost\n",
    "#! pip install plotly_express\n",
    "#! pip install dfply\n",
    "#! pip install pandas_ml #For confusion matrix\n",
    "#! pip install pdpbox\n",
    "#! pip install shap\n",
    "#! pip install pixiedust"
   ]
  },
  {
   "cell_type": "code",
   "execution_count": 2,
   "metadata": {},
   "outputs": [
    {
     "name": "stderr",
     "output_type": "stream",
     "text": [
      "/home/ubuntu/anaconda3/envs/pytorch_p36/lib/python3.6/site-packages/sklearn/ensemble/weight_boosting.py:29: DeprecationWarning:\n",
      "\n",
      "numpy.core.umath_tests is an internal NumPy module and should not be imported. It will be removed in a future NumPy release.\n",
      "\n"
     ]
    },
    {
     "name": "stdout",
     "output_type": "stream",
     "text": [
      "Pixiedust database opened successfully\n",
      "Table VERSION_TRACKER created successfully\n",
      "Table METRICS_TRACKER created successfully\n",
      "\n",
      "Share anonymous install statistics? (opt-out instructions)\n",
      "\n",
      "PixieDust will record metadata on its environment the next time the package is installed or updated. The data is anonymized and aggregated to help plan for future releases, and records only the following values:\n",
      "\n",
      "{\n",
      "   \"data_sent\": currentDate,\n",
      "   \"runtime\": \"python\",\n",
      "   \"application_version\": currentPixiedustVersion,\n",
      "   \"space_id\": nonIdentifyingUniqueId,\n",
      "   \"config\": {\n",
      "       \"repository_id\": \"https://github.com/ibm-watson-data-lab/pixiedust\",\n",
      "       \"target_runtimes\": [\"Data Science Experience\"],\n",
      "       \"event_id\": \"web\",\n",
      "       \"event_organizer\": \"dev-journeys\"\n",
      "   }\n",
      "}\n",
      "You can opt out by calling pixiedust.optOut() in a new cell.\n"
     ]
    },
    {
     "data": {
      "text/html": [
       "\n",
       "        <div style=\"margin:10px\">\n",
       "            <a href=\"https://github.com/ibm-watson-data-lab/pixiedust\" target=\"_new\">\n",
       "                <img src=\"https://github.com/ibm-watson-data-lab/pixiedust/raw/master/docs/_static/pd_icon32.png\" style=\"float:left;margin-right:10px\"/>\n",
       "            </a>\n",
       "            <span>Pixiedust version 1.1.17</span>\n",
       "        </div>\n",
       "        "
      ],
      "text/plain": [
       "<IPython.core.display.HTML object>"
      ]
     },
     "metadata": {},
     "output_type": "display_data"
    },
    {
     "name": "stdout",
     "output_type": "stream",
     "text": [
      "\u001b[31mPixiedust runtime updated. Please restart kernel\u001b[0m\n",
      "Table USER_PREFERENCES created successfully\n",
      "Table service_connections created successfully\n"
     ]
    }
   ],
   "source": [
    "import xgboost as xgb\n",
    "import plotly_express as px\n",
    "from dfply import *\n",
    "import shap\n",
    "# import pixiedust"
   ]
  },
  {
   "cell_type": "code",
   "execution_count": 8,
   "metadata": {},
   "outputs": [
    {
     "name": "stdout",
     "output_type": "stream",
     "text": [
      "Cloning into 'DS_Explorations'...\n",
      "remote: Enumerating objects: 455, done.\u001b[K\n",
      "remote: Counting objects: 100% (455/455), done.\u001b[K\n",
      "remote: Compressing objects: 100% (446/446), done.\u001b[K\n",
      "remote: Total 510 (delta 12), reused 447 (delta 6), pack-reused 55\u001b[K\n",
      "Receiving objects: 100% (510/510), 50.29 MiB | 45.34 MiB/s, done.\n",
      "Resolving deltas: 100% (31/31), done.\n",
      "Checking connectivity... done.\n"
     ]
    }
   ],
   "source": [
    "#! git clone https://github.com/Archisman-Roy/DS_Explorations.git"
   ]
  }
 ],
 "metadata": {
  "kernelspec": {
   "display_name": "Environment (conda_pytorch_p36)",
   "language": "python",
   "name": "conda_pytorch_p36"
  },
  "language_info": {
   "codemirror_mode": {
    "name": "ipython",
    "version": 3
   },
   "file_extension": ".py",
   "mimetype": "text/x-python",
   "name": "python",
   "nbconvert_exporter": "python",
   "pygments_lexer": "ipython3",
   "version": "3.6.5"
  }
 },
 "nbformat": 4,
 "nbformat_minor": 2
}
